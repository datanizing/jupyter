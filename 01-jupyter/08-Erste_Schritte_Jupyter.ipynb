{
 "cells": [
  {
   "cell_type": "markdown",
   "metadata": {},
   "source": [
    "# Erste Schritte mit Jupyter"
   ]
  },
  {
   "cell_type": "markdown",
   "metadata": {},
   "source": [
    "## Zellen und Zelltypen"
   ]
  },
  {
   "cell_type": "markdown",
   "metadata": {},
   "source": [
    "Jupyter-Notebooks sind aus sog. *Zellen* aufgebaut."
   ]
  },
  {
   "cell_type": "markdown",
   "metadata": {},
   "source": [
    "Es gibt unterschiedliche Arten von Zellen. Für dich sind hauptsächlich zwei Varianten wichtig:\n",
    "* Code-Zellen\n",
    "* Dokumentations-Zellen (im [Markdown](https://www.markdownguide.org)-Format)"
   ]
  },
  {
   "cell_type": "markdown",
   "metadata": {},
   "source": [
    "Jupyter-Notebooks können so sowohl zur Programmierung als auch zur Dokumentation verwendet werden."
   ]
  },
  {
   "cell_type": "markdown",
   "metadata": {},
   "source": [
    "## Navigation"
   ]
  },
  {
   "cell_type": "markdown",
   "metadata": {},
   "source": [
    "Prinzipiell hat Jupyter einen *Bearbeitungsmodus*, in dem eine Zelle ausgewählt ist und einen *Selektionsmodus*, in dem du zwischen den Zellen springen kannst (ähnlich wie die *vi*-Editor). \n",
    "\n",
    "Wenn du eine Zelle bearbeiten möchtest, klickst du mit der Maus doppelt in die Zelle oder drückst *Return*, wenn die Zelle selektiert ist.\n",
    "\n",
    "Möchtest du vom Bearbeitungs- in den Selektionsmodus wechseln, geht das mit *Esc*."
   ]
  },
  {
   "cell_type": "markdown",
   "metadata": {},
   "source": [
    "Du kannst eine neue Zelle im *Cell*-Menü anlegen und dabei den Typ der Zelle wählen. Die Texte, die du bisher im Notebook gelesen hast, sind nur *Markdown*-Zellen. Sie sehen aus wie Fließtext."
   ]
  },
  {
   "cell_type": "markdown",
   "metadata": {},
   "source": [
    "## Python-Code"
   ]
  },
  {
   "cell_type": "markdown",
   "metadata": {},
   "source": [
    "An jeder Stelle lassen sich allerdings *Python*-Zellen einfügen. Unter dieser Zelle siehst du eine. Sie sieht etwas anders aus, weil vor der Zelle immer ein Platzhalter steht, in dem die *Ausfühungsreihenfolge* eingefügt wird."
   ]
  },
  {
   "cell_type": "code",
   "execution_count": 2,
   "metadata": {},
   "outputs": [
    {
     "data": {
      "text/plain": [
       "4"
      ]
     },
     "execution_count": 2,
     "metadata": {},
     "output_type": "execute_result"
    }
   ],
   "source": [
    "2+2"
   ]
  },
  {
   "cell_type": "markdown",
   "metadata": {},
   "source": [
    "*Python*-Zellen kannst du ausführen. Dazu gibt es mehrere Möglichkeiten:\n",
    "* Du klickst dazu auf den \"Run\"-Button in der Toolbar ganz oben, wenn du die Zelle ausgewählt hast.\n",
    "* Du drückst `Shift-Return`, wenn du die Zelle ausgewählt hast.\n",
    "* Du klickst auf den kleinen Button links neben der Zelle."
   ]
  },
  {
   "cell_type": "markdown",
   "metadata": {},
   "source": [
    "Jupyter zeigt dir als Ergebnis immer den Wert des letzten Ausdrucks in der Zelle an. Das ist sehr praktisch. Natürlich kannst du auch mit den üblichen Python-Befehlen Ausgaben erzeugen:"
   ]
  },
  {
   "cell_type": "code",
   "execution_count": 3,
   "metadata": {},
   "outputs": [
    {
     "name": "stdout",
     "output_type": "stream",
     "text": [
      "Hallo Jupyter\n"
     ]
    },
    {
     "data": {
      "text/plain": [
       "256"
      ]
     },
     "execution_count": 3,
     "metadata": {},
     "output_type": "execute_result"
    }
   ],
   "source": [
    "print(\"Hallo Jupyter\")\n",
    "2**8"
   ]
  },
  {
   "cell_type": "markdown",
   "metadata": {},
   "source": [
    "Die Ergebnisse werden dann unter der Zelle dargestellt. In dem `Out`-Bereich steht immer der Wert des letzten Ausdrucks."
   ]
  },
  {
   "cell_type": "markdown",
   "metadata": {},
   "source": [
    "## Grafiken und Diagramme"
   ]
  },
  {
   "cell_type": "markdown",
   "metadata": {},
   "source": [
    "Neben Textausgaben kann Jupyter auch Grafiken in dem Notebook mit anzeigen. Das ist total praktisch und sieht auch noch ganz gut aus:"
   ]
  },
  {
   "cell_type": "code",
   "execution_count": 4,
   "metadata": {},
   "outputs": [
    {
     "data": {
      "image/png": "[encoded data removed]",
      "text/plain": [
       "<Figure size 432x288 with 1 Axes>"
      ]
     },
     "metadata": {
      "needs_background": "light"
     },
     "output_type": "display_data"
    }
   ],
   "source": [
    "import numpy as np\n",
    "import matplotlib.pyplot as plt\n",
    "x = np.linspace(start=-4, stop=4, num=100)\n",
    "plt.plot(x, np.sin(x))\n",
    "plt.show()"
   ]
  },
  {
   "cell_type": "markdown",
   "metadata": {},
   "source": [
    "In dem Codeschnipsel werden zwei Bibliotheken importiert, die wir häufig benötigen. `numpy` wird für numerische Berechnungen verwendet und speziell hier, um Werte für die x-Achse mittels `np.linspace` zu generieren und die dazu passenden y-Wert durch `np.sin` zu berechnen"
   ]
  },
  {
   "cell_type": "markdown",
   "metadata": {},
   "source": [
    "## Autocompletion"
   ]
  },
  {
   "cell_type": "markdown",
   "metadata": {},
   "source": [
    "Jupyter unterstützt die *Autocompletion* beim Aufruf von Funktionen, Variablen usw. Dazu nutzt du die `Tab`-Taste. Probier es aus und lass dir alle möglichen Vervollständigen zu `numpy` anzeigen (das sind viele!)"
   ]
  },
  {
   "cell_type": "code",
   "execution_count": 5,
   "metadata": {},
   "outputs": [
    {
     "data": {
      "text/plain": [
       "5"
      ]
     },
     "execution_count": 5,
     "metadata": {},
     "output_type": "execute_result"
    }
   ],
   "source": [
    "np.abs(-5)"
   ]
  },
  {
   "cell_type": "markdown",
   "metadata": {},
   "source": [
    "Manchmal möchte man noch mehr wissen, und sich die *Dokumentation einer Funktion oder Methode* anzeigen lassen. Das geht mit `Shift-Tab`. Wenn du die Kombination zweimal betätigst, erhältst du eine ausführlichere Beschreibung:"
   ]
  },
  {
   "cell_type": "code",
   "execution_count": 6,
   "metadata": {},
   "outputs": [
    {
     "data": {
      "text/plain": [
       "array([1.2, 4.5])"
      ]
     },
     "execution_count": 6,
     "metadata": {},
     "output_type": "execute_result"
    }
   ],
   "source": [
    "np.abs([1.2, -4.5])"
   ]
  },
  {
   "cell_type": "markdown",
   "metadata": {},
   "source": [
    "## Abspeichern von Notebooks"
   ]
  },
  {
   "cell_type": "markdown",
   "metadata": {},
   "source": [
    "Notebooks werden immer mit *Inputs und Outputs* abgespeichert. Das ist sehr praktisch, da eine Visualisierung oft am Ende einer komplexen Berechnung steht und es sehr aufwändig wäre, diese nochmal zu generieren, wenn z.B. zwischendurch ein Reboot erfolgen musste."
   ]
  },
  {
   "cell_type": "markdown",
   "metadata": {},
   "source": [
    "Praktischerweise werden Notebooks auch von Zeit zu Zeit selbst abgespeichert, so dass man normalerweise kein Arbeit verliert, auch wenn mal etwas abstürzt."
   ]
  },
  {
   "cell_type": "markdown",
   "metadata": {},
   "source": [
    "## Unterschiede zu Google Colab"
   ]
  },
  {
   "cell_type": "markdown",
   "metadata": {},
   "source": [
    "Alle hier gezeigten Beispiele funktionieren auch in Google Colab. Es gibt ein paar Unterschiede mit den Tastaturkürzeln,aber `Shift-Return` und `Ctrl-Return` funktionierengenauso"
   ]
  },
  {
   "cell_type": "markdown",
   "metadata": {},
   "source": [
    "# Notebooks zum Videokurs"
   ]
  },
  {
   "cell_type": "markdown",
   "metadata": {},
   "source": [
    "Alle Notebooks zum Kurs finden sich in Github. Du kannst dir das Github-Projekt auschecken oder direkt die Links zu den Colab-Notebooks aufrufen"
   ]
  }
 ],
 "metadata": {
  "kernelspec": {
   "display_name": "Python 3",
   "language": "python",
   "name": "python3"
  },
  "language_info": {
   "codemirror_mode": {
    "name": "ipython",
    "version": 3
   },
   "file_extension": ".py",
   "mimetype": "text/x-python",
   "name": "python",
   "nbconvert_exporter": "python",
   "pygments_lexer": "ipython3",
   "version": "3.8.5"
  },
  "varInspector": {
   "cols": {
    "lenName": 16,
    "lenType": 16,
    "lenVar": 40
   },
   "kernels_config": {
    "python": {
     "delete_cmd_postfix": "",
     "delete_cmd_prefix": "del ",
     "library": "var_list.py",
     "varRefreshCmd": "print(var_dic_list())"
    },
    "r": {
     "delete_cmd_postfix": ") ",
     "delete_cmd_prefix": "rm(",
     "library": "var_list.r",
     "varRefreshCmd": "cat(var_dic_list()) "
    }
   },
   "types_to_exclude": [
    "module",
    "function",
    "builtin_function_or_method",
    "instance",
    "_Feature"
   ],
   "window_display": false
  }
 },
 "nbformat": 4,
 "nbformat_minor": 4
}
